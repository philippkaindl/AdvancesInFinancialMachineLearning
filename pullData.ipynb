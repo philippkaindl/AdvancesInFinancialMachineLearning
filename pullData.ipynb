{
 "cells": [
  {
   "cell_type": "code",
   "execution_count": 9,
   "metadata": {},
   "outputs": [],
   "source": [
    "# Import statements\n",
    "# import yfinance as yf\n",
    "import pandas as pd\n",
    "import os\n",
    "import numpy as np\n",
    "import datetime as dt\n",
    "from datetime import *\n",
    "from pathlib import Path\n",
    "import pandas_ta as ta\n",
    "# from price_data_pull_yfinance import gethistoricalOHLC, saveHistStockData, loadHistDataFromDisk\n",
    "from datetime import date\n",
    "today = date.today()\n",
    "\n",
    "# from global_vars import dataPathToOHLC, pathToMasterDF, float16Cols, float32Cols"
   ]
  },
  {
   "cell_type": "code",
   "execution_count": 10,
   "metadata": {},
   "outputs": [],
   "source": [
    "import yfinance as yf"
   ]
  },
  {
   "cell_type": "code",
   "execution_count": 11,
   "metadata": {},
   "outputs": [
    {
     "data": {
      "text/plain": [
       "'0.1.67'"
      ]
     },
     "execution_count": 11,
     "metadata": {},
     "output_type": "execute_result"
    }
   ],
   "source": [
    "yf.__version__"
   ]
  },
  {
   "cell_type": "markdown",
   "metadata": {},
   "source": [
    "# Testing it for Bitcoin"
   ]
  },
  {
   "cell_type": "code",
   "execution_count": 53,
   "metadata": {},
   "outputs": [
    {
     "name": "stdout",
     "output_type": "stream",
     "text": [
      "{'companyOfficers': [], 'name': 'Bitcoin', 'startDate': 1367107200, 'description': 'Bitcoin (BTC) is a cryptocurrency . Users are able to generate BTC through the process of mining. Bitcoin has a current supply of 18,882,875. The last known price of Bitcoin is 58,647.26190846 USD and is up 3.81 over the last 24 hours. It is currently trading on 8347 active market(s) with $34,798,046,427.24 traded over the last 24 hours. More information can be found at https://bitcoin.org/.', 'maxAge': 1, 'exchange': 'CCC', 'shortName': 'Bitcoin USD', 'exchangeTimezoneName': 'UTC', 'exchangeTimezoneShortName': 'UTC', 'isEsgPopulated': False, 'gmtOffSetMilliseconds': '0', 'quoteType': 'CRYPTOCURRENCY', 'symbol': 'BTC-USD', 'messageBoardId': 'finmb_BTC_CCC', 'market': 'ccc_market', 'previousClose': 57679.746, 'regularMarketOpen': 57679.746, 'twoHundredDayAverage': 46051.684, 'trailingAnnualDividendYield': None, 'payoutRatio': None, 'volume24Hr': 36659036160, 'regularMarketDayHigh': 58431.145, 'navPrice': None, 'averageDailyVolume10Day': 33304855383, 'totalAssets': None, 'regularMarketPreviousClose': 57679.746, 'fiftyDayAverage': 60787.582, 'trailingAnnualDividendRate': None, 'open': 57679.746, 'toCurrency': 'USD=X', 'averageVolume10days': 33304855383, 'expireDate': None, 'yield': None, 'algorithm': None, 'dividendRate': None, 'exDividendDate': None, 'beta': None, 'circulatingSupply': 18887268, 'regularMarketDayLow': 56115.19, 'priceHint': 2, 'currency': 'USD', 'regularMarketVolume': 36659036160, 'lastMarket': 'CoinMarketCap', 'maxSupply': None, 'openInterest': None, 'marketCap': 1102867333120, 'volumeAllCurrencies': 36659036160, 'strikePrice': None, 'averageVolume': 36335270577, 'priceToSalesTrailing12Months': None, 'dayLow': 56115.19, 'ask': None, 'ytdReturn': None, 'askSize': None, 'volume': 36659036160, 'fiftyTwoWeekHigh': 68789.625, 'forwardPE': None, 'fromCurrency': 'BTC', 'fiveYearAvgDividendYield': None, 'fiftyTwoWeekLow': 17619.533, 'bid': None, 'tradeable': False, 'dividendYield': None, 'bidSize': None, 'dayHigh': 58431.145, 'regularMarketPrice': 58392.105, 'preMarketPrice': None, 'logo_url': ''}\n"
     ]
    }
   ],
   "source": [
    "ticker = yf.Ticker(\"BTC-USD\")\n",
    "\n",
    "# get stock info\n",
    "print(ticker.info)\n",
    "\n",
    "# start = dt.datetime(2018, 1, 1)\n",
    "# end = today\n",
    "# # get historical market data\n",
    "# df = ticker.history(start=start,  end=\"2021-11-09\", interval = \"1m\")\n"
   ]
  },
  {
   "cell_type": "code",
   "execution_count": 54,
   "metadata": {},
   "outputs": [],
   "source": [
    "def pullMinuteData(ticker, timeframe = 4):\n",
    "    '''function to pull a certain time frame of mintue date from yahoo finance as they only allow 1 week per request on that level of granularity.\n",
    "    Inputs: \n",
    "        - ticker: a yfinance ticker object\n",
    "        - timeframe: (int) in weeks\n",
    "    Output:\n",
    "        - df: a pandas dataframe with the requested data'''\n",
    "\n",
    "    # generate a list of datetime tuples that have the requested intervals\n",
    "    #df = ticker.history(start=start,  end=\"2021-11-09\", interval = \"1m\")\n",
    "\n",
    "    \n",
    "    today = datetime.today()\n",
    "    weeks = 5\n",
    "    days = timedelta(7*weeks)\n",
    "    startDate = today - days\n",
    "    startDate = startDate.date()\n",
    "    dfs = []\n",
    "    currDate = today.date()\n",
    "    while currDate > startDate:\n",
    "        endIntervall = currDate\n",
    "        startIntervall = (currDate - timedelta(6))\n",
    "        df = ticker.history(start=startIntervall,  end=endIntervall, interval = '1m')\n",
    "\n",
    "        currDate = startIntervall\n",
    "\n",
    "        dfs.append(df)\n",
    "    if len(dfs) == 1:\n",
    "        return dfs[0]    \n",
    "    else:\n",
    "        concatDF = pd.concat(dfs)\n",
    "        return concatDF"
   ]
  },
  {
   "cell_type": "code",
   "execution_count": 55,
   "metadata": {},
   "outputs": [
    {
     "name": "stdout",
     "output_type": "stream",
     "text": [
      "- BTC-USD: 1m data not available for startTime=1635631200 and endTime=1636153200. The requested range must be within the last 30 days.\n",
      "- BTC-USD: 1m data not available for startTime=1635112800 and endTime=1635631200. The requested range must be within the last 30 days.\n"
     ]
    }
   ],
   "source": [
    "# pulling a year worth of data\n",
    "df = pullMinuteData(ticker, timeframe = int(52*(7/6)))"
   ]
  },
  {
   "cell_type": "code",
   "execution_count": 57,
   "metadata": {},
   "outputs": [],
   "source": [
    "df = df.sort_index()\n",
    "df.to_csv(\"01_data/oneYearBTCUSD\")"
   ]
  },
  {
   "cell_type": "code",
   "execution_count": 60,
   "metadata": {},
   "outputs": [
    {
     "name": "stdout",
     "output_type": "stream",
     "text": [
      "Log Return -0.051501511648202936\n"
     ]
    }
   ],
   "source": [
    "df['log_price'] = np.log(df.close)\n",
    "df['log_return'] = df['log_price'].diff()\n",
    "print(\"Log Return\", df.log_return.sum())\n",
    "totalLogReturn = df.log_return.sum()\n",
    "df = df.iloc[1: , :]"
   ]
  },
  {
   "cell_type": "markdown",
   "metadata": {},
   "source": [
    "#### Sanity check if the returns make sense"
   ]
  },
  {
   "cell_type": "code",
   "execution_count": null,
   "metadata": {},
   "outputs": [],
   "source": [
    "minDate = df.Date.min()\n",
    "maxDate = df.Date.max()\n",
    "V0 = df.loc[df.Date == minDate].Close.iloc[0]\n",
    "Vt = df.loc[df.Date == maxDate].Close.iloc[0]\n",
    "print(V0, Vt)"
   ]
  },
  {
   "cell_type": "code",
   "execution_count": null,
   "metadata": {},
   "outputs": [],
   "source": [
    "Vt_calc = V0 * np.exp(totalLogReturn)\n",
    "Vt_calc"
   ]
  },
  {
   "cell_type": "code",
   "execution_count": null,
   "metadata": {},
   "outputs": [],
   "source": [
    "df"
   ]
  },
  {
   "cell_type": "markdown",
   "metadata": {},
   "source": [
    "### Lets take a look how much money you would have made if you would have predicted perfectly on a day to day basis"
   ]
  },
  {
   "cell_type": "markdown",
   "metadata": {},
   "source": [
    "Trading idea with ideal knowledge of the future one day returns, lets see how much one could make"
   ]
  },
  {
   "cell_type": "code",
   "execution_count": null,
   "metadata": {},
   "outputs": [],
   "source": [
    "df['signal'] = np.where(df['log_return']>=0, 1, -1)\n",
    "df"
   ]
  },
  {
   "cell_type": "code",
   "execution_count": null,
   "metadata": {},
   "outputs": [],
   "source": [
    "def rowWiseBacktest(df, startcap = 10000):\n",
    "    '''Takes a dataframe with close prices and itereates over them. Calculates the gains realized or lost via the trade signal'''\n",
    "    holding = 0 # amount of shares\n",
    "    cap = startcap \n",
    "    returns, purchase_price, div = 0, 0, 0\n",
    "\n",
    "    first, second = 0,0\n",
    "    for idx, row in df.iterrows():\n",
    "        # print(row)\n",
    "        if (holding == 0) & (row.signal == 1) & (cap >0) : # we anticipate gains, we want to buy\n",
    "            div = 0\n",
    "            holding = cap/row.Close   # buy all shares with all the money\n",
    "            cap = 0 \n",
    "            returns += row.log_return\n",
    "            purchase_price = row.Close\n",
    "            div += row.Dividends\n",
    "            first += 1\n",
    "        elif ((holding > 0) & (row.signal == -1)): # ew anticipate losses, we want to sell OR we reached the end of the backtest. In this case we also want to sell \n",
    "            second += 1\n",
    "            # print(\"Second Condidtion\")\n",
    "            # print('before exectuion:')\n",
    "            # print(holding, cap, returns, purchase_price, div)\n",
    "            cap = (purchase_price + ((purchase_price*returns)+div))*holding\n",
    "            holding = 0\n",
    "\n",
    "            # print(holding, cap, returns, purchase_price, div)\n",
    "            # print(\"####################################################################\")\n",
    "        else:\n",
    "            pass  \n",
    "        if idx == df.shape[0]:\n",
    "            print(\"ran until:\", idx) \n",
    "\n",
    "    final_return = np.log(cap)- np.log(startcap)\n",
    "    return cap, final_return, holding\n",
    "        \n",
    "    "
   ]
  },
  {
   "cell_type": "code",
   "execution_count": null,
   "metadata": {},
   "outputs": [],
   "source": [
    "cap, final_return, holding = rowWiseBacktest(df)\n",
    "print(\"Capital after the backtesting period\", cap)\n",
    "print(\"Final log-return after backtest period\", final_return)\n",
    "print(\"Final holding after backtest period\", holding)"
   ]
  },
  {
   "cell_type": "code",
   "execution_count": null,
   "metadata": {},
   "outputs": [],
   "source": [
    "totalLogReturn_right = df[df.log_return>=0]['log_return'].sum() \n",
    "\n",
    "print(totalLogReturn_right)\n",
    "Vt_calc = V0 * np.exp(totalLogReturn_right)\n",
    "Vt_calc"
   ]
  },
  {
   "cell_type": "code",
   "execution_count": null,
   "metadata": {},
   "outputs": [],
   "source": []
  },
  {
   "cell_type": "code",
   "execution_count": null,
   "metadata": {},
   "outputs": [],
   "source": []
  },
  {
   "cell_type": "code",
   "execution_count": null,
   "metadata": {},
   "outputs": [],
   "source": []
  },
  {
   "cell_type": "code",
   "execution_count": null,
   "metadata": {},
   "outputs": [],
   "source": [
    "gain = df.loc[df.Date == maxDate].Close.iloc[0] - df.loc[df.Date == minDate].Close.iloc[0] \n",
    "dividendes = df.Dividends.sum()\n",
    "totalGain = gain + dividendes\n",
    "holdingPeriod = ((maxDate-minDate).days/365)\n",
    "totalReturn = totalGain / df.loc[df.Date == minDate].Close.iloc[0] *100\n",
    "print(\"Total Return: \", totalReturn)\n",
    "annualizedReturn = totalReturn/ ((maxDate-minDate).days/365)\n",
    "print(\"annualizedReturn\", annualizedReturn)"
   ]
  },
  {
   "cell_type": "code",
   "execution_count": null,
   "metadata": {},
   "outputs": [],
   "source": [
    "minDate = df.Date.min()\n",
    "maxDate = df.Date.max()\n",
    "\n",
    "df_Return = 100*()/df.loc[df.Date == minDate].Close.iloc[0]\n",
    "annualizedReturn = df_Return/ ((maxDate-minDate).days/365)\n",
    "print(\"annualized Return:\", annualizedReturn)"
   ]
  },
  {
   "cell_type": "code",
   "execution_count": null,
   "metadata": {},
   "outputs": [],
   "source": [
    "# Calculating anualized Returns\n",
    "annualizedReturns = df_Return/((maxDate-minDate).days/365)\n"
   ]
  },
  {
   "cell_type": "code",
   "execution_count": null,
   "metadata": {},
   "outputs": [],
   "source": [
    "df.loc[df.date == minDate].close.iloc[0]\n"
   ]
  },
  {
   "cell_type": "code",
   "execution_count": null,
   "metadata": {},
   "outputs": [],
   "source": [
    "minDate"
   ]
  },
  {
   "cell_type": "code",
   "execution_count": null,
   "metadata": {},
   "outputs": [],
   "source": [
    "(dt.date(2021,11,15)-dt.date(2005, 1, 1)).days/365"
   ]
  },
  {
   "cell_type": "code",
   "execution_count": null,
   "metadata": {},
   "outputs": [],
   "source": [
    "1.363 / 16.882191780821916"
   ]
  },
  {
   "cell_type": "code",
   "execution_count": null,
   "metadata": {},
   "outputs": [],
   "source": []
  }
 ],
 "metadata": {
  "interpreter": {
   "hash": "234ec8372acce1fd1f112a488006bb7f8e4137d5cf5fcd815a0739f6a77f5837"
  },
  "kernelspec": {
   "display_name": "Python 3",
   "language": "python",
   "name": "python3"
  },
  "language_info": {
   "codemirror_mode": {
    "name": "ipython",
    "version": 3
   },
   "file_extension": ".py",
   "mimetype": "text/x-python",
   "name": "python",
   "nbconvert_exporter": "python",
   "pygments_lexer": "ipython3",
   "version": "3.8.5"
  }
 },
 "nbformat": 4,
 "nbformat_minor": 4
}
